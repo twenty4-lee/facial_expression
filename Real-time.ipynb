{
 "cells": [
  {
   "cell_type": "code",
   "execution_count": null,
   "id": "7fabaf1b",
   "metadata": {},
   "outputs": [],
   "source": [
    "# from keras.models import load_model\n",
    "from time import sleep\n",
    "# from keras.preprocessing.image import img_to_array\n",
    "# from keras.preprocessing import image\n",
    "import keras\n",
    "import cv2\n",
    "import numpy as np\n",
    "from keras import models\n",
    "import tensorflow as tf\n",
    "\n",
    "#첨부파일 중 xml파일인데 굳이 다운받을 필요 없음\n",
    "face_classifier = cv2.CascadeClassifier(cv2.data.haarcascades +'haarcascade_frontalface_default.xml')\n",
    "#첨부파일 중 modelh5\n",
    "classifier =models.load_model(\"/Users/krx/Desktop/facial_expression/model_filter.h5\") #개인 경로\n",
    "\n",
    "emotion_labels = ['Angry','Disgust','Fear','Happy','Neutral', 'Sad', 'Surprise']\n",
    "\n",
    "#노트북 웹캠을 카메라로 사용(colab에서는 실행 안됨)\n",
    "cap = cv2.VideoCapture(0)\n",
    "\n",
    "cap.set(3,640) # 너비\n",
    "cap.set(4,480) # 높이\n",
    "\n",
    "while cv2.waitKey(50) != ord('a'):#a를 누르면 멈춤\n",
    "    _, frame = cap.read()\n",
    "    frame = cv2.flip(frame, 1)#좌우대칭\n",
    "    labels = []\n",
    "    gray = cv2.cvtColor(frame,cv2.COLOR_BGR2GRAY)\n",
    "    faces = face_classifier.detectMultiScale(gray,1.05, 5)\n",
    "    print(len(faces)) # 삭제해도 되는 코드 \n",
    "    for (x,y,w,h) in faces:\n",
    "        cv2.rectangle(frame,(x,y),(x+w,y+h),(0,255,255),2)\n",
    "        roi_gray = gray[y:y+h,x:x+w]\n",
    "        roi_gray = cv2.resize(roi_gray,(48,48),interpolation=cv2.INTER_AREA)\n",
    "\n",
    "        if np.sum([roi_gray])!=0:\n",
    "            roi = roi_gray.astype('float')/255.0\n",
    "            roi = tf.keras.preprocessing.image.img_to_array(roi)\n",
    "            roi = np.expand_dims(roi,axis=0)\n",
    "\n",
    "            prediction = classifier.predict(roi)[0]\n",
    "            label=emotion_labels[prediction.argmax()]\n",
    "            label_position = (x,y)\n",
    "            cv2.putText(frame,label,label_position,cv2.FONT_HERSHEY_SIMPLEX,1,(0,255,0),2)\n",
    "        else:\n",
    "            cv2.putText(frame,'No Faces',(30,80),cv2.FONT_HERSHEY_SIMPLEX,1,(0,255,0),2)\n",
    "    cv2.imshow('Emotion Detector',frame)\n",
    "    \n",
    "#메모리 해제 method \"cap.release()\"를 사용해 카메라 장치에서 받아온 메모리를 해제\n",
    "cap.release()\n",
    "#모든 윈도우창 제거 함수\n",
    "cv2.destroyAllWindows()"
   ]
  },
  {
   "cell_type": "code",
   "execution_count": null,
   "id": "553f5208",
   "metadata": {},
   "outputs": [],
   "source": []
  }
 ],
 "metadata": {
  "kernelspec": {
   "display_name": "Python 3 (ipykernel)",
   "language": "python",
   "name": "python3"
  },
  "language_info": {
   "codemirror_mode": {
    "name": "ipython",
    "version": 3
   },
   "file_extension": ".py",
   "mimetype": "text/x-python",
   "name": "python",
   "nbconvert_exporter": "python",
   "pygments_lexer": "ipython3",
   "version": "3.9.12"
  }
 },
 "nbformat": 4,
 "nbformat_minor": 5
}
